{
 "cells": [
  {
   "cell_type": "code",
   "execution_count": null,
   "metadata": {},
   "outputs": [],
   "source": [
    "import pandas as pd\n",
    "\n",
    "df = pd.DataFrame({\n",
    "    'first_name': [1, 2, 3, 4, 5,],\n",
    "    'last_name': [10, 20, 30, 40, 50,],\n",
    "    'country': ['USA', 'USA', 'USA', 'USA', 'USA',]\n",
    "})\n",
    "df.to_csv('lab/resources/criminals.tsv', sep='\\t', index=False)"
   ]
  },
  {
   "cell_type": "code",
   "execution_count": null,
   "metadata": {},
   "outputs": [],
   "source": [
    "df = pd.read_csv('lab/resources/criminals.tsv', sep='\\t')\n",
    "df.head()"
   ]
  },
  {
   "cell_type": "code",
   "execution_count": null,
   "metadata": {},
   "outputs": [],
   "source": [
    "import yaml\n",
    "\n",
    "with open('lab/names.yaml', 'r') as f:\n",
    "    names: dict = yaml.safe_load(f)\n",
    "type(names)"
   ]
  }
 ],
 "metadata": {
  "language_info": {
   "name": "python"
  },
  "orig_nbformat": 4
 },
 "nbformat": 4,
 "nbformat_minor": 2
}
